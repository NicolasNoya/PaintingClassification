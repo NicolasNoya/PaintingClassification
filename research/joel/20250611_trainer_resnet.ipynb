{
 "cells": [
  {
   "cell_type": "code",
   "execution_count": 1,
   "id": "9ef41ef4",
   "metadata": {},
   "outputs": [],
   "source": [
    "from interface import Interface\n",
    "from paintings_dataset import PaintingsDataset\n",
    "from torch.utils.data import DataLoader\n",
    "\n"
   ]
  },
  {
   "cell_type": "code",
   "execution_count": 5,
   "id": "2e418f60",
   "metadata": {},
   "outputs": [],
   "source": [
    "interface = Interface(epochs=20,logging_interval=2,num_workers=8,model='resnet50',save_model_path='weights/resnet50/',data_path='Dataset')\n",
    "\n"
   ]
  },
  {
   "cell_type": "code",
   "execution_count": 6,
   "id": "fb588932",
   "metadata": {},
   "outputs": [
    {
     "name": "stderr",
     "output_type": "stream",
     "text": [
      "Training Epoch 1/20 - Metrics: f1 score: 0, accuracy: 0: 100%|██████████| 145/145 [01:50<00:00,  1.31it/s]\n"
     ]
    },
    {
     "name": "stdout",
     "output_type": "stream",
     "text": [
      "Epoch [1/20], Loss: 20.3962\n",
      "Model saved to weights/resnet50/, best F1 score: 0.7629\n",
      "Model saved to weights/resnet50/, best loss: 14.1485\n",
      "The validation scores are:\n",
      "{'accuracy': 0.9105638265609741, 'f1_score': 0.7628865838050842, 'precision': 0.6873065233230591, 'recall': 0.8571428656578064, 'confusion_matrix': array([[1183,  101],\n",
      "       [  37,  222]])}\n",
      "14.14845608919859\n"
     ]
    },
    {
     "name": "stderr",
     "output_type": "stream",
     "text": [
      "Training Epoch 2/20 - Metrics: f1 score: 0.7268673181533813, accuracy: 0.8941456079483032: 100%|██████████| 145/145 [01:43<00:00,  1.41it/s]\n",
      "Training Epoch 3/20 - Metrics: f1 score: 0.7532176971435547, accuracy: 0.904731035232544: 100%|██████████| 145/145 [01:43<00:00,  1.40it/s]"
     ]
    },
    {
     "name": "stdout",
     "output_type": "stream",
     "text": [
      "Epoch [3/20], Loss: 14.5955\n"
     ]
    },
    {
     "name": "stderr",
     "output_type": "stream",
     "text": [
      "\n"
     ]
    },
    {
     "name": "stdout",
     "output_type": "stream",
     "text": [
      "Model saved to weights/resnet50/, best F1 score: 0.7732\n",
      "Model saved to weights/resnet50/, best loss: 9.9124\n",
      "The validation scores are:\n",
      "{'accuracy': 0.9144523739814758, 'f1_score': 0.7731958627700806, 'precision': 0.6965944170951843, 'recall': 0.8687258958816528, 'confusion_matrix': array([[1186,   98],\n",
      "       [  34,  225]])}\n",
      "9.912404552102089\n"
     ]
    },
    {
     "name": "stderr",
     "output_type": "stream",
     "text": [
      "Training Epoch 4/20 - Metrics: f1 score: 0.8183361887931824, accuracy: 0.9306545853614807: 100%|██████████| 145/145 [01:44<00:00,  1.39it/s]\n",
      "Training Epoch 5/20 - Metrics: f1 score: 0.8735632300376892, accuracy: 0.952473521232605: 100%|██████████| 145/145 [01:44<00:00,  1.39it/s]"
     ]
    },
    {
     "name": "stdout",
     "output_type": "stream",
     "text": [
      "Epoch [5/20], Loss: 6.8755\n"
     ]
    },
    {
     "name": "stderr",
     "output_type": "stream",
     "text": [
      "\n"
     ]
    },
    {
     "name": "stdout",
     "output_type": "stream",
     "text": [
      "The validation scores are:\n",
      "{'accuracy': 0.9008424878120422, 'f1_score': 0.7575277090072632, 'precision': 0.6424731016159058, 'recall': 0.92277991771698, 'confusion_matrix': array([[1151,  133],\n",
      "       [  20,  239]])}\n",
      "11.662629883736372\n"
     ]
    },
    {
     "name": "stderr",
     "output_type": "stream",
     "text": [
      "Training Epoch 6/20 - Metrics: f1 score: 0.9078013896942139, accuracy: 0.9662994146347046: 100%|██████████| 145/145 [01:44<00:00,  1.39it/s]\n",
      "Training Epoch 7/20 - Metrics: f1 score: 0.9275534152984619, accuracy: 0.9736444354057312: 100%|██████████| 145/145 [01:44<00:00,  1.39it/s]"
     ]
    },
    {
     "name": "stdout",
     "output_type": "stream",
     "text": [
      "Epoch [7/20], Loss: 3.2920\n"
     ]
    },
    {
     "name": "stderr",
     "output_type": "stream",
     "text": [
      "\n"
     ]
    },
    {
     "name": "stdout",
     "output_type": "stream",
     "text": [
      "The validation scores are:\n",
      "{'accuracy': 0.9112119078636169, 'f1_score': 0.7712854743003845, 'precision': 0.679411768913269, 'recall': 0.8918918967247009, 'confusion_matrix': array([[1175,  109],\n",
      "       [  28,  231]])}\n",
      "17.083676658570766\n"
     ]
    },
    {
     "name": "stderr",
     "output_type": "stream",
     "text": [
      "Training Epoch 8/20 - Metrics: f1 score: 0.9563636183738708, accuracy: 0.9844458699226379: 100%|██████████| 145/145 [04:12<00:00,  1.74s/it]\n",
      "Training Epoch 9/20 - Metrics: f1 score: 0.9442780017852783, accuracy: 0.9799092411994934: 100%|██████████| 145/145 [04:10<00:00,  1.73s/it]"
     ]
    },
    {
     "name": "stdout",
     "output_type": "stream",
     "text": [
      "Epoch [9/20], Loss: 1.5095\n"
     ]
    },
    {
     "name": "stderr",
     "output_type": "stream",
     "text": [
      "\n"
     ]
    },
    {
     "name": "stdout",
     "output_type": "stream",
     "text": [
      "The validation scores are:\n",
      "{'accuracy': 0.9254698753356934, 'f1_score': 0.7526881694793701, 'precision': 0.8495145440101624, 'recall': 0.6756756901741028, 'confusion_matrix': array([[1253,   31],\n",
      "       [  84,  175]])}\n",
      "30.800172483897768\n"
     ]
    },
    {
     "name": "stderr",
     "output_type": "stream",
     "text": [
      "Training Epoch 10/20 - Metrics: f1 score: 0.9797670245170593, accuracy: 0.9928710460662842: 100%|██████████| 145/145 [04:17<00:00,  1.78s/it]\n",
      "Training Epoch 11/20 - Metrics: f1 score: 0.9839506149291992, accuracy: 0.9943832159042358: 100%|██████████| 145/145 [03:45<00:00,  1.56s/it]"
     ]
    },
    {
     "name": "stdout",
     "output_type": "stream",
     "text": [
      "Epoch [11/20], Loss: 1.4922\n"
     ]
    },
    {
     "name": "stderr",
     "output_type": "stream",
     "text": [
      "\n"
     ]
    },
    {
     "name": "stdout",
     "output_type": "stream",
     "text": [
      "Model saved to weights/resnet50/, best F1 score: 0.7842\n",
      "The validation scores are:\n",
      "{'accuracy': 0.9254698753356934, 'f1_score': 0.7842401266098022, 'precision': 0.7627737522125244, 'recall': 0.80694979429245, 'confusion_matrix': array([[1219,   65],\n",
      "       [  50,  209]])}\n",
      "30.502066757529974\n"
     ]
    },
    {
     "name": "stderr",
     "output_type": "stream",
     "text": [
      "Training Epoch 12/20 - Metrics: f1 score: 0.9784349799156189, accuracy: 0.9924389719963074: 100%|██████████| 145/145 [01:44<00:00,  1.38it/s]\n",
      "Training Epoch 13/20 - Metrics: f1 score: 0.9845583438873291, accuracy: 0.9945992827415466: 100%|██████████| 145/145 [01:41<00:00,  1.44it/s]"
     ]
    },
    {
     "name": "stdout",
     "output_type": "stream",
     "text": [
      "Epoch [13/20], Loss: 3.3940\n"
     ]
    },
    {
     "name": "stderr",
     "output_type": "stream",
     "text": [
      "\n"
     ]
    },
    {
     "name": "stdout",
     "output_type": "stream",
     "text": [
      "The validation scores are:\n",
      "{'accuracy': 0.8807517886161804, 'f1_score': 0.7228915691375732, 'precision': 0.5925925970077515, 'recall': 0.9266409277915955, 'confusion_matrix': array([[1119,  165],\n",
      "       [  19,  240]])}\n",
      "12.085853703320026\n"
     ]
    },
    {
     "name": "stderr",
     "output_type": "stream",
     "text": [
      "Training Epoch 14/20 - Metrics: f1 score: 0.9567337036132812, accuracy: 0.9846619367599487: 100%|██████████| 145/145 [01:43<00:00,  1.40it/s]\n",
      "Training Epoch 15/20 - Metrics: f1 score: 0.9313432574272156, accuracy: 0.9751566052436829: 100%|██████████| 145/145 [01:44<00:00,  1.39it/s]\n"
     ]
    },
    {
     "name": "stdout",
     "output_type": "stream",
     "text": [
      "Epoch [15/20], Loss: 1.2627\n",
      "The validation scores are:\n",
      "{'accuracy': 0.9235255718231201, 'f1_score': 0.7806691527366638, 'precision': 0.7526881694793701, 'recall': 0.8108108043670654, 'confusion_matrix': array([[1215,   69],\n",
      "       [  49,  210]])}\n",
      "26.79128800914623\n"
     ]
    },
    {
     "name": "stderr",
     "output_type": "stream",
     "text": [
      "Training Epoch 16/20 - Metrics: f1 score: 0.9851484894752502, accuracy: 0.9948152899742126: 100%|██████████| 145/145 [01:42<00:00,  1.41it/s]\n",
      "Training Epoch 17/20 - Metrics: f1 score: 0.9907235503196716, accuracy: 0.9967595338821411: 100%|██████████| 145/145 [01:43<00:00,  1.41it/s]"
     ]
    },
    {
     "name": "stdout",
     "output_type": "stream",
     "text": [
      "Epoch [17/20], Loss: 1.0667\n"
     ]
    },
    {
     "name": "stderr",
     "output_type": "stream",
     "text": [
      "\n"
     ]
    },
    {
     "name": "stdout",
     "output_type": "stream",
     "text": [
      "The validation scores are:\n",
      "{'accuracy': 0.9248217940330505, 'f1_score': 0.7707509994506836, 'precision': 0.7894737124443054, 'recall': 0.7528957724571228, 'confusion_matrix': array([[1232,   52],\n",
      "       [  64,  195]])}\n",
      "43.8092056371097\n"
     ]
    },
    {
     "name": "stderr",
     "output_type": "stream",
     "text": [
      "Training Epoch 18/20 - Metrics: f1 score: 0.9857937097549438, accuracy: 0.9950312972068787: 100%|██████████| 145/145 [01:42<00:00,  1.41it/s]\n",
      "Training Epoch 19/20 - Metrics: f1 score: 0.9956602454185486, accuracy: 0.9984877705574036: 100%|██████████| 145/145 [01:42<00:00,  1.41it/s]"
     ]
    },
    {
     "name": "stdout",
     "output_type": "stream",
     "text": [
      "Epoch [19/20], Loss: 0.2254\n"
     ]
    },
    {
     "name": "stderr",
     "output_type": "stream",
     "text": [
      "\n"
     ]
    },
    {
     "name": "stdout",
     "output_type": "stream",
     "text": [
      "The validation scores are:\n",
      "{'accuracy': 0.9300065040588379, 'f1_score': 0.7804877758026123, 'precision': 0.8240343332290649, 'recall': 0.7413127422332764, 'confusion_matrix': array([[1243,   41],\n",
      "       [  67,  192]])}\n",
      "51.49142681417288\n"
     ]
    },
    {
     "name": "stderr",
     "output_type": "stream",
     "text": [
      "Training Epoch 20/20 - Metrics: f1 score: 0.9950371980667114, accuracy: 0.9982717633247375: 100%|██████████| 145/145 [01:43<00:00,  1.40it/s]"
     ]
    },
    {
     "name": "stdout",
     "output_type": "stream",
     "text": [
      "Epoch [20/20], Loss: 0.2150\n"
     ]
    },
    {
     "name": "stderr",
     "output_type": "stream",
     "text": [
      "\n"
     ]
    },
    {
     "name": "stdout",
     "output_type": "stream",
     "text": [
      "The validation scores are:\n",
      "{'accuracy': 0.9215813279151917, 'f1_score': 0.7659574747085571, 'precision': 0.7674418687820435, 'recall': 0.7644787430763245, 'confusion_matrix': array([[1224,   60],\n",
      "       [  61,  198]])}\n",
      "45.641580033887294\n"
     ]
    },
    {
     "data": {
      "text/plain": [
       "{'accuracy': 0.9984877705574036,\n",
       " 'f1_score': 0.9956602454185486,\n",
       " 'precision': 0.9913580417633057,\n",
       " 'recall': 1.0,\n",
       " 'confusion_matrix': array([[3819,    7],\n",
       "        [   0,  803]])}"
      ]
     },
     "execution_count": 6,
     "metadata": {},
     "output_type": "execute_result"
    }
   ],
   "source": [
    "device = 'cuda:0'\n",
    "\n",
    "interface.rnn_train()"
   ]
  },
  {
   "cell_type": "code",
   "execution_count": 7,
   "id": "3f3f35c2",
   "metadata": {},
   "outputs": [
    {
     "data": {
      "text/plain": [
       "(47.67632443513139,\n",
       " {'accuracy': 0.9364873766899109,\n",
       "  'f1_score': 0.8070865869522095,\n",
       "  'precision': 0.8039215803146362,\n",
       "  'recall': 0.8102766871452332,\n",
       "  'confusion_matrix': array([[1240,   50],\n",
       "         [  48,  205]])})"
      ]
     },
     "execution_count": 7,
     "metadata": {},
     "output_type": "execute_result"
    }
   ],
   "source": [
    "interface.test()"
   ]
  },
  {
   "cell_type": "code",
   "execution_count": null,
   "id": "1f32039a",
   "metadata": {},
   "outputs": [],
   "source": [
    "(10.499460279563209,\n",
    " {'accuracy': 0.9280622005462646,\n",
    "  'f1_score': 0.7701863646507263,\n",
    "  'precision': 0.8611111044883728,\n",
    "  'recall': 0.6966292262077332,\n",
    "  'confusion_matrix': array([[1246,   30],\n",
    "         [  81,  186]])})"
   ]
  }
 ],
 "metadata": {
  "kernelspec": {
   "display_name": "challenge_ima206-env",
   "language": "python",
   "name": "python3"
  },
  "language_info": {
   "codemirror_mode": {
    "name": "ipython",
    "version": 3
   },
   "file_extension": ".py",
   "mimetype": "text/x-python",
   "name": "python",
   "nbconvert_exporter": "python",
   "pygments_lexer": "ipython3",
   "version": "3.8.10"
  }
 },
 "nbformat": 4,
 "nbformat_minor": 5
}
